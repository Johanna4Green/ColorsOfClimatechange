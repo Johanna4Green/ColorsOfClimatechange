{
  "nbformat": 4,
  "nbformat_minor": 0,
  "metadata": {
    "colab": {
      "provenance": []
    },
    "kernelspec": {
      "name": "python3",
      "display_name": "Python 3"
    },
    "language_info": {
      "name": "python"
    }
  },
  "cells": [
    {
      "cell_type": "markdown",
      "source": [
        "# Sentiment Comparison: Viusal vs. Textual"
      ],
      "metadata": {
        "id": "qnSK78dSRCMl"
      }
    },
    {
      "cell_type": "markdown",
      "source": [
        "This notebook creates a dataframe, which has the columns id, **Visual_Sentiment** - which was generated from OpenAI *gpt-4-vision-preview* - and **Textual_Sentiment** - which was generated from the OpenAI *gpt-3.5.-turbo model*.\n",
        "\n",
        "Then a [chi-square test of independence](https://www.scribbr.com/statistics/chi-square-tests/) is used to test whether the two categorical (nominal) variables are related to each other.\n",
        "\n",
        "For this the\n",
        "\n"
      ],
      "metadata": {
        "id": "ENNcg6hVDqqZ"
      }
    },
    {
      "cell_type": "markdown",
      "source": [
        "## Preparing the dataframe"
      ],
      "metadata": {
        "id": "NBow_A02gg8j"
      }
    },
    {
      "cell_type": "markdown",
      "source": [
        "Mount Drive and read data. Create Dataframe with important columns."
      ],
      "metadata": {
        "id": "eYsQwHsRDos9"
      }
    },
    {
      "cell_type": "code",
      "source": [
        "from google.colab import drive\n",
        "drive.mount('/content/drive')"
      ],
      "metadata": {
        "colab": {
          "base_uri": "https://localhost:8080/"
        },
        "id": "xvI4B7xczxOQ",
        "outputId": "e12fb6c8-637d-4b1c-b8ec-1ff31764f075"
      },
      "execution_count": null,
      "outputs": [
        {
          "output_type": "stream",
          "name": "stdout",
          "text": [
            "Mounted at /content/drive\n"
          ]
        }
      ]
    },
    {
      "cell_type": "code",
      "execution_count": null,
      "metadata": {
        "id": "i9hkqOpUb8kQ"
      },
      "outputs": [],
      "source": [
        "import pandas as pd\n",
        "\n",
        "df = pd.read_csv('/content/drive/MyDrive/Klimawandel Projekt/Daten/total.csv', sep=\",\")"
      ]
    },
    {
      "cell_type": "code",
      "source": [
        "df.head(2)"
      ],
      "metadata": {
        "colab": {
          "base_uri": "https://localhost:8080/",
          "height": 398
        },
        "id": "7ezLw2nL1fib",
        "outputId": "d6931e85-4040-47d2-db26-4b2a2b3b4689"
      },
      "execution_count": null,
      "outputs": [
        {
          "output_type": "execute_result",
          "data": {
            "text/plain": [
              "                id             Filename     Account  \\\n",
              "0  climatechange_1  climatechange_1.jpg  NASA Earth   \n",
              "1  climatechange_2  climatechange_2.jpg        NASA   \n",
              "\n",
              "                                                body          language  \\\n",
              "0  Not your typical ice cube. 🧊\\n\\nAlthough it is...  Language.ENGLISH   \n",
              "1  Not your typical ice cube. 🧊\\n\\nAlthough it is...  Language.ENGLISH   \n",
              "\n",
              "         Hashtag Sentiment Correlation_to_the_topic Type_of_media_content  \\\n",
              "0  climatechange   neutral                     True                 Photo   \n",
              "1  climatechange   neutral                     True                 Photo   \n",
              "\n",
              "  Impression_or_Sentiment  ... Education_Facts_or_News  \\\n",
              "0                 Neutral  ...                    True   \n",
              "1                 Neutral  ...                    True   \n",
              "\n",
              "                           BERTopic   platform    mean_h   mean_s   mean_v  \\\n",
              "0  2_ice_gletscher_schnee_antarktis  instagram  0.635294  0.07451  0.65098   \n",
              "1  2_ice_gletscher_schnee_antarktis  instagram  0.635294  0.07451  0.65098   \n",
              "\n",
              "  dominant_h dominant_s  dominant_v  max_colorname  \n",
              "0   0.635294    0.07451     0.65098           gray  \n",
              "1   0.635294    0.07451     0.65098           gray  \n",
              "\n",
              "[2 rows x 25 columns]"
            ],
            "text/html": [
              "\n",
              "  <div id=\"df-87eada86-ecc0-4fbf-b2a9-c21b3ccb9f5a\" class=\"colab-df-container\">\n",
              "    <div>\n",
              "<style scoped>\n",
              "    .dataframe tbody tr th:only-of-type {\n",
              "        vertical-align: middle;\n",
              "    }\n",
              "\n",
              "    .dataframe tbody tr th {\n",
              "        vertical-align: top;\n",
              "    }\n",
              "\n",
              "    .dataframe thead th {\n",
              "        text-align: right;\n",
              "    }\n",
              "</style>\n",
              "<table border=\"1\" class=\"dataframe\">\n",
              "  <thead>\n",
              "    <tr style=\"text-align: right;\">\n",
              "      <th></th>\n",
              "      <th>id</th>\n",
              "      <th>Filename</th>\n",
              "      <th>Account</th>\n",
              "      <th>body</th>\n",
              "      <th>language</th>\n",
              "      <th>Hashtag</th>\n",
              "      <th>Sentiment</th>\n",
              "      <th>Correlation_to_the_topic</th>\n",
              "      <th>Type_of_media_content</th>\n",
              "      <th>Impression_or_Sentiment</th>\n",
              "      <th>...</th>\n",
              "      <th>Education_Facts_or_News</th>\n",
              "      <th>BERTopic</th>\n",
              "      <th>platform</th>\n",
              "      <th>mean_h</th>\n",
              "      <th>mean_s</th>\n",
              "      <th>mean_v</th>\n",
              "      <th>dominant_h</th>\n",
              "      <th>dominant_s</th>\n",
              "      <th>dominant_v</th>\n",
              "      <th>max_colorname</th>\n",
              "    </tr>\n",
              "  </thead>\n",
              "  <tbody>\n",
              "    <tr>\n",
              "      <th>0</th>\n",
              "      <td>climatechange_1</td>\n",
              "      <td>climatechange_1.jpg</td>\n",
              "      <td>NASA Earth</td>\n",
              "      <td>Not your typical ice cube. 🧊\\n\\nAlthough it is...</td>\n",
              "      <td>Language.ENGLISH</td>\n",
              "      <td>climatechange</td>\n",
              "      <td>neutral</td>\n",
              "      <td>True</td>\n",
              "      <td>Photo</td>\n",
              "      <td>Neutral</td>\n",
              "      <td>...</td>\n",
              "      <td>True</td>\n",
              "      <td>2_ice_gletscher_schnee_antarktis</td>\n",
              "      <td>instagram</td>\n",
              "      <td>0.635294</td>\n",
              "      <td>0.07451</td>\n",
              "      <td>0.65098</td>\n",
              "      <td>0.635294</td>\n",
              "      <td>0.07451</td>\n",
              "      <td>0.65098</td>\n",
              "      <td>gray</td>\n",
              "    </tr>\n",
              "    <tr>\n",
              "      <th>1</th>\n",
              "      <td>climatechange_2</td>\n",
              "      <td>climatechange_2.jpg</td>\n",
              "      <td>NASA</td>\n",
              "      <td>Not your typical ice cube. 🧊\\n\\nAlthough it is...</td>\n",
              "      <td>Language.ENGLISH</td>\n",
              "      <td>climatechange</td>\n",
              "      <td>neutral</td>\n",
              "      <td>True</td>\n",
              "      <td>Photo</td>\n",
              "      <td>Neutral</td>\n",
              "      <td>...</td>\n",
              "      <td>True</td>\n",
              "      <td>2_ice_gletscher_schnee_antarktis</td>\n",
              "      <td>instagram</td>\n",
              "      <td>0.635294</td>\n",
              "      <td>0.07451</td>\n",
              "      <td>0.65098</td>\n",
              "      <td>0.635294</td>\n",
              "      <td>0.07451</td>\n",
              "      <td>0.65098</td>\n",
              "      <td>gray</td>\n",
              "    </tr>\n",
              "  </tbody>\n",
              "</table>\n",
              "<p>2 rows × 25 columns</p>\n",
              "</div>\n",
              "    <div class=\"colab-df-buttons\">\n",
              "\n",
              "  <div class=\"colab-df-container\">\n",
              "    <button class=\"colab-df-convert\" onclick=\"convertToInteractive('df-87eada86-ecc0-4fbf-b2a9-c21b3ccb9f5a')\"\n",
              "            title=\"Convert this dataframe to an interactive table.\"\n",
              "            style=\"display:none;\">\n",
              "\n",
              "  <svg xmlns=\"http://www.w3.org/2000/svg\" height=\"24px\" viewBox=\"0 -960 960 960\">\n",
              "    <path d=\"M120-120v-720h720v720H120Zm60-500h600v-160H180v160Zm220 220h160v-160H400v160Zm0 220h160v-160H400v160ZM180-400h160v-160H180v160Zm440 0h160v-160H620v160ZM180-180h160v-160H180v160Zm440 0h160v-160H620v160Z\"/>\n",
              "  </svg>\n",
              "    </button>\n",
              "\n",
              "  <style>\n",
              "    .colab-df-container {\n",
              "      display:flex;\n",
              "      gap: 12px;\n",
              "    }\n",
              "\n",
              "    .colab-df-convert {\n",
              "      background-color: #E8F0FE;\n",
              "      border: none;\n",
              "      border-radius: 50%;\n",
              "      cursor: pointer;\n",
              "      display: none;\n",
              "      fill: #1967D2;\n",
              "      height: 32px;\n",
              "      padding: 0 0 0 0;\n",
              "      width: 32px;\n",
              "    }\n",
              "\n",
              "    .colab-df-convert:hover {\n",
              "      background-color: #E2EBFA;\n",
              "      box-shadow: 0px 1px 2px rgba(60, 64, 67, 0.3), 0px 1px 3px 1px rgba(60, 64, 67, 0.15);\n",
              "      fill: #174EA6;\n",
              "    }\n",
              "\n",
              "    .colab-df-buttons div {\n",
              "      margin-bottom: 4px;\n",
              "    }\n",
              "\n",
              "    [theme=dark] .colab-df-convert {\n",
              "      background-color: #3B4455;\n",
              "      fill: #D2E3FC;\n",
              "    }\n",
              "\n",
              "    [theme=dark] .colab-df-convert:hover {\n",
              "      background-color: #434B5C;\n",
              "      box-shadow: 0px 1px 3px 1px rgba(0, 0, 0, 0.15);\n",
              "      filter: drop-shadow(0px 1px 2px rgba(0, 0, 0, 0.3));\n",
              "      fill: #FFFFFF;\n",
              "    }\n",
              "  </style>\n",
              "\n",
              "    <script>\n",
              "      const buttonEl =\n",
              "        document.querySelector('#df-87eada86-ecc0-4fbf-b2a9-c21b3ccb9f5a button.colab-df-convert');\n",
              "      buttonEl.style.display =\n",
              "        google.colab.kernel.accessAllowed ? 'block' : 'none';\n",
              "\n",
              "      async function convertToInteractive(key) {\n",
              "        const element = document.querySelector('#df-87eada86-ecc0-4fbf-b2a9-c21b3ccb9f5a');\n",
              "        const dataTable =\n",
              "          await google.colab.kernel.invokeFunction('convertToInteractive',\n",
              "                                                    [key], {});\n",
              "        if (!dataTable) return;\n",
              "\n",
              "        const docLinkHtml = 'Like what you see? Visit the ' +\n",
              "          '<a target=\"_blank\" href=https://colab.research.google.com/notebooks/data_table.ipynb>data table notebook</a>'\n",
              "          + ' to learn more about interactive tables.';\n",
              "        element.innerHTML = '';\n",
              "        dataTable['output_type'] = 'display_data';\n",
              "        await google.colab.output.renderOutput(dataTable, element);\n",
              "        const docLink = document.createElement('div');\n",
              "        docLink.innerHTML = docLinkHtml;\n",
              "        element.appendChild(docLink);\n",
              "      }\n",
              "    </script>\n",
              "  </div>\n",
              "\n",
              "\n",
              "<div id=\"df-2bd52edf-d151-40a4-8a60-563c86db8c44\">\n",
              "  <button class=\"colab-df-quickchart\" onclick=\"quickchart('df-2bd52edf-d151-40a4-8a60-563c86db8c44')\"\n",
              "            title=\"Suggest charts\"\n",
              "            style=\"display:none;\">\n",
              "\n",
              "<svg xmlns=\"http://www.w3.org/2000/svg\" height=\"24px\"viewBox=\"0 0 24 24\"\n",
              "     width=\"24px\">\n",
              "    <g>\n",
              "        <path d=\"M19 3H5c-1.1 0-2 .9-2 2v14c0 1.1.9 2 2 2h14c1.1 0 2-.9 2-2V5c0-1.1-.9-2-2-2zM9 17H7v-7h2v7zm4 0h-2V7h2v10zm4 0h-2v-4h2v4z\"/>\n",
              "    </g>\n",
              "</svg>\n",
              "  </button>\n",
              "\n",
              "<style>\n",
              "  .colab-df-quickchart {\n",
              "      --bg-color: #E8F0FE;\n",
              "      --fill-color: #1967D2;\n",
              "      --hover-bg-color: #E2EBFA;\n",
              "      --hover-fill-color: #174EA6;\n",
              "      --disabled-fill-color: #AAA;\n",
              "      --disabled-bg-color: #DDD;\n",
              "  }\n",
              "\n",
              "  [theme=dark] .colab-df-quickchart {\n",
              "      --bg-color: #3B4455;\n",
              "      --fill-color: #D2E3FC;\n",
              "      --hover-bg-color: #434B5C;\n",
              "      --hover-fill-color: #FFFFFF;\n",
              "      --disabled-bg-color: #3B4455;\n",
              "      --disabled-fill-color: #666;\n",
              "  }\n",
              "\n",
              "  .colab-df-quickchart {\n",
              "    background-color: var(--bg-color);\n",
              "    border: none;\n",
              "    border-radius: 50%;\n",
              "    cursor: pointer;\n",
              "    display: none;\n",
              "    fill: var(--fill-color);\n",
              "    height: 32px;\n",
              "    padding: 0;\n",
              "    width: 32px;\n",
              "  }\n",
              "\n",
              "  .colab-df-quickchart:hover {\n",
              "    background-color: var(--hover-bg-color);\n",
              "    box-shadow: 0 1px 2px rgba(60, 64, 67, 0.3), 0 1px 3px 1px rgba(60, 64, 67, 0.15);\n",
              "    fill: var(--button-hover-fill-color);\n",
              "  }\n",
              "\n",
              "  .colab-df-quickchart-complete:disabled,\n",
              "  .colab-df-quickchart-complete:disabled:hover {\n",
              "    background-color: var(--disabled-bg-color);\n",
              "    fill: var(--disabled-fill-color);\n",
              "    box-shadow: none;\n",
              "  }\n",
              "\n",
              "  .colab-df-spinner {\n",
              "    border: 2px solid var(--fill-color);\n",
              "    border-color: transparent;\n",
              "    border-bottom-color: var(--fill-color);\n",
              "    animation:\n",
              "      spin 1s steps(1) infinite;\n",
              "  }\n",
              "\n",
              "  @keyframes spin {\n",
              "    0% {\n",
              "      border-color: transparent;\n",
              "      border-bottom-color: var(--fill-color);\n",
              "      border-left-color: var(--fill-color);\n",
              "    }\n",
              "    20% {\n",
              "      border-color: transparent;\n",
              "      border-left-color: var(--fill-color);\n",
              "      border-top-color: var(--fill-color);\n",
              "    }\n",
              "    30% {\n",
              "      border-color: transparent;\n",
              "      border-left-color: var(--fill-color);\n",
              "      border-top-color: var(--fill-color);\n",
              "      border-right-color: var(--fill-color);\n",
              "    }\n",
              "    40% {\n",
              "      border-color: transparent;\n",
              "      border-right-color: var(--fill-color);\n",
              "      border-top-color: var(--fill-color);\n",
              "    }\n",
              "    60% {\n",
              "      border-color: transparent;\n",
              "      border-right-color: var(--fill-color);\n",
              "    }\n",
              "    80% {\n",
              "      border-color: transparent;\n",
              "      border-right-color: var(--fill-color);\n",
              "      border-bottom-color: var(--fill-color);\n",
              "    }\n",
              "    90% {\n",
              "      border-color: transparent;\n",
              "      border-bottom-color: var(--fill-color);\n",
              "    }\n",
              "  }\n",
              "</style>\n",
              "\n",
              "  <script>\n",
              "    async function quickchart(key) {\n",
              "      const quickchartButtonEl =\n",
              "        document.querySelector('#' + key + ' button');\n",
              "      quickchartButtonEl.disabled = true;  // To prevent multiple clicks.\n",
              "      quickchartButtonEl.classList.add('colab-df-spinner');\n",
              "      try {\n",
              "        const charts = await google.colab.kernel.invokeFunction(\n",
              "            'suggestCharts', [key], {});\n",
              "      } catch (error) {\n",
              "        console.error('Error during call to suggestCharts:', error);\n",
              "      }\n",
              "      quickchartButtonEl.classList.remove('colab-df-spinner');\n",
              "      quickchartButtonEl.classList.add('colab-df-quickchart-complete');\n",
              "    }\n",
              "    (() => {\n",
              "      let quickchartButtonEl =\n",
              "        document.querySelector('#df-2bd52edf-d151-40a4-8a60-563c86db8c44 button');\n",
              "      quickchartButtonEl.style.display =\n",
              "        google.colab.kernel.accessAllowed ? 'block' : 'none';\n",
              "    })();\n",
              "  </script>\n",
              "</div>\n",
              "    </div>\n",
              "  </div>\n"
            ],
            "application/vnd.google.colaboratory.intrinsic+json": {
              "type": "dataframe",
              "variable_name": "df"
            }
          },
          "metadata": {},
          "execution_count": 3
        }
      ]
    },
    {
      "cell_type": "code",
      "source": [
        "len(df)"
      ],
      "metadata": {
        "colab": {
          "base_uri": "https://localhost:8080/"
        },
        "id": "Y3NRaT_4gxes",
        "outputId": "06d617cb-ba57-4661-f84c-a13efdba0dab"
      },
      "execution_count": null,
      "outputs": [
        {
          "output_type": "execute_result",
          "data": {
            "text/plain": [
              "6905"
            ]
          },
          "metadata": {},
          "execution_count": 4
        }
      ]
    },
    {
      "cell_type": "code",
      "source": [
        "sentiment_df = df[[\"id\", \"Sentiment\", \"Impression_or_Sentiment\" ]]"
      ],
      "metadata": {
        "id": "c96ZTTs81cLc"
      },
      "execution_count": null,
      "outputs": []
    },
    {
      "cell_type": "code",
      "source": [
        "sentiment_df = sentiment_df.rename(columns={'Sentiment': 'Text_Sentiment', 'Impression_or_Sentiment': 'Visual_Sentiment'})\n"
      ],
      "metadata": {
        "id": "J3q0aNHV4LA1"
      },
      "execution_count": null,
      "outputs": []
    },
    {
      "cell_type": "code",
      "source": [
        "sentiment_df['Visual_Sentiment'] = sentiment_df['Visual_Sentiment'].apply(lambda x: x.lower() if isinstance(x, str) else x)"
      ],
      "metadata": {
        "id": "hM8DgYKvRAia"
      },
      "execution_count": null,
      "outputs": []
    },
    {
      "cell_type": "code",
      "source": [
        "sentiment_df.head()"
      ],
      "metadata": {
        "colab": {
          "base_uri": "https://localhost:8080/",
          "height": 282
        },
        "id": "lET3W4W-4gfp",
        "outputId": "bcdd2237-a5af-42ff-e4c1-9eded2adc1a4"
      },
      "execution_count": null,
      "outputs": [
        {
          "output_type": "execute_result",
          "data": {
            "text/plain": [
              "                id Text_Sentiment Visual_Sentiment\n",
              "0  climatechange_1        neutral          neutral\n",
              "1  climatechange_2        neutral          neutral\n",
              "2  climatechange_3       positive         negative\n",
              "3  climatechange_4        neutral          neutral\n",
              "4  climatechange_5       positive          neutral"
            ],
            "text/html": [
              "\n",
              "  <div id=\"df-ac6a577e-b34a-4d63-a3d6-35a33fffee37\" class=\"colab-df-container\">\n",
              "    <div>\n",
              "<style scoped>\n",
              "    .dataframe tbody tr th:only-of-type {\n",
              "        vertical-align: middle;\n",
              "    }\n",
              "\n",
              "    .dataframe tbody tr th {\n",
              "        vertical-align: top;\n",
              "    }\n",
              "\n",
              "    .dataframe thead th {\n",
              "        text-align: right;\n",
              "    }\n",
              "</style>\n",
              "<table border=\"1\" class=\"dataframe\">\n",
              "  <thead>\n",
              "    <tr style=\"text-align: right;\">\n",
              "      <th></th>\n",
              "      <th>id</th>\n",
              "      <th>Text_Sentiment</th>\n",
              "      <th>Visual_Sentiment</th>\n",
              "    </tr>\n",
              "  </thead>\n",
              "  <tbody>\n",
              "    <tr>\n",
              "      <th>0</th>\n",
              "      <td>climatechange_1</td>\n",
              "      <td>neutral</td>\n",
              "      <td>neutral</td>\n",
              "    </tr>\n",
              "    <tr>\n",
              "      <th>1</th>\n",
              "      <td>climatechange_2</td>\n",
              "      <td>neutral</td>\n",
              "      <td>neutral</td>\n",
              "    </tr>\n",
              "    <tr>\n",
              "      <th>2</th>\n",
              "      <td>climatechange_3</td>\n",
              "      <td>positive</td>\n",
              "      <td>negative</td>\n",
              "    </tr>\n",
              "    <tr>\n",
              "      <th>3</th>\n",
              "      <td>climatechange_4</td>\n",
              "      <td>neutral</td>\n",
              "      <td>neutral</td>\n",
              "    </tr>\n",
              "    <tr>\n",
              "      <th>4</th>\n",
              "      <td>climatechange_5</td>\n",
              "      <td>positive</td>\n",
              "      <td>neutral</td>\n",
              "    </tr>\n",
              "  </tbody>\n",
              "</table>\n",
              "</div>\n",
              "    <div class=\"colab-df-buttons\">\n",
              "\n",
              "  <div class=\"colab-df-container\">\n",
              "    <button class=\"colab-df-convert\" onclick=\"convertToInteractive('df-ac6a577e-b34a-4d63-a3d6-35a33fffee37')\"\n",
              "            title=\"Convert this dataframe to an interactive table.\"\n",
              "            style=\"display:none;\">\n",
              "\n",
              "  <svg xmlns=\"http://www.w3.org/2000/svg\" height=\"24px\" viewBox=\"0 -960 960 960\">\n",
              "    <path d=\"M120-120v-720h720v720H120Zm60-500h600v-160H180v160Zm220 220h160v-160H400v160Zm0 220h160v-160H400v160ZM180-400h160v-160H180v160Zm440 0h160v-160H620v160ZM180-180h160v-160H180v160Zm440 0h160v-160H620v160Z\"/>\n",
              "  </svg>\n",
              "    </button>\n",
              "\n",
              "  <style>\n",
              "    .colab-df-container {\n",
              "      display:flex;\n",
              "      gap: 12px;\n",
              "    }\n",
              "\n",
              "    .colab-df-convert {\n",
              "      background-color: #E8F0FE;\n",
              "      border: none;\n",
              "      border-radius: 50%;\n",
              "      cursor: pointer;\n",
              "      display: none;\n",
              "      fill: #1967D2;\n",
              "      height: 32px;\n",
              "      padding: 0 0 0 0;\n",
              "      width: 32px;\n",
              "    }\n",
              "\n",
              "    .colab-df-convert:hover {\n",
              "      background-color: #E2EBFA;\n",
              "      box-shadow: 0px 1px 2px rgba(60, 64, 67, 0.3), 0px 1px 3px 1px rgba(60, 64, 67, 0.15);\n",
              "      fill: #174EA6;\n",
              "    }\n",
              "\n",
              "    .colab-df-buttons div {\n",
              "      margin-bottom: 4px;\n",
              "    }\n",
              "\n",
              "    [theme=dark] .colab-df-convert {\n",
              "      background-color: #3B4455;\n",
              "      fill: #D2E3FC;\n",
              "    }\n",
              "\n",
              "    [theme=dark] .colab-df-convert:hover {\n",
              "      background-color: #434B5C;\n",
              "      box-shadow: 0px 1px 3px 1px rgba(0, 0, 0, 0.15);\n",
              "      filter: drop-shadow(0px 1px 2px rgba(0, 0, 0, 0.3));\n",
              "      fill: #FFFFFF;\n",
              "    }\n",
              "  </style>\n",
              "\n",
              "    <script>\n",
              "      const buttonEl =\n",
              "        document.querySelector('#df-ac6a577e-b34a-4d63-a3d6-35a33fffee37 button.colab-df-convert');\n",
              "      buttonEl.style.display =\n",
              "        google.colab.kernel.accessAllowed ? 'block' : 'none';\n",
              "\n",
              "      async function convertToInteractive(key) {\n",
              "        const element = document.querySelector('#df-ac6a577e-b34a-4d63-a3d6-35a33fffee37');\n",
              "        const dataTable =\n",
              "          await google.colab.kernel.invokeFunction('convertToInteractive',\n",
              "                                                    [key], {});\n",
              "        if (!dataTable) return;\n",
              "\n",
              "        const docLinkHtml = 'Like what you see? Visit the ' +\n",
              "          '<a target=\"_blank\" href=https://colab.research.google.com/notebooks/data_table.ipynb>data table notebook</a>'\n",
              "          + ' to learn more about interactive tables.';\n",
              "        element.innerHTML = '';\n",
              "        dataTable['output_type'] = 'display_data';\n",
              "        await google.colab.output.renderOutput(dataTable, element);\n",
              "        const docLink = document.createElement('div');\n",
              "        docLink.innerHTML = docLinkHtml;\n",
              "        element.appendChild(docLink);\n",
              "      }\n",
              "    </script>\n",
              "  </div>\n",
              "\n",
              "\n",
              "<div id=\"df-ab8d3e1e-4e47-4aca-9528-abf9f35d51cf\">\n",
              "  <button class=\"colab-df-quickchart\" onclick=\"quickchart('df-ab8d3e1e-4e47-4aca-9528-abf9f35d51cf')\"\n",
              "            title=\"Suggest charts\"\n",
              "            style=\"display:none;\">\n",
              "\n",
              "<svg xmlns=\"http://www.w3.org/2000/svg\" height=\"24px\"viewBox=\"0 0 24 24\"\n",
              "     width=\"24px\">\n",
              "    <g>\n",
              "        <path d=\"M19 3H5c-1.1 0-2 .9-2 2v14c0 1.1.9 2 2 2h14c1.1 0 2-.9 2-2V5c0-1.1-.9-2-2-2zM9 17H7v-7h2v7zm4 0h-2V7h2v10zm4 0h-2v-4h2v4z\"/>\n",
              "    </g>\n",
              "</svg>\n",
              "  </button>\n",
              "\n",
              "<style>\n",
              "  .colab-df-quickchart {\n",
              "      --bg-color: #E8F0FE;\n",
              "      --fill-color: #1967D2;\n",
              "      --hover-bg-color: #E2EBFA;\n",
              "      --hover-fill-color: #174EA6;\n",
              "      --disabled-fill-color: #AAA;\n",
              "      --disabled-bg-color: #DDD;\n",
              "  }\n",
              "\n",
              "  [theme=dark] .colab-df-quickchart {\n",
              "      --bg-color: #3B4455;\n",
              "      --fill-color: #D2E3FC;\n",
              "      --hover-bg-color: #434B5C;\n",
              "      --hover-fill-color: #FFFFFF;\n",
              "      --disabled-bg-color: #3B4455;\n",
              "      --disabled-fill-color: #666;\n",
              "  }\n",
              "\n",
              "  .colab-df-quickchart {\n",
              "    background-color: var(--bg-color);\n",
              "    border: none;\n",
              "    border-radius: 50%;\n",
              "    cursor: pointer;\n",
              "    display: none;\n",
              "    fill: var(--fill-color);\n",
              "    height: 32px;\n",
              "    padding: 0;\n",
              "    width: 32px;\n",
              "  }\n",
              "\n",
              "  .colab-df-quickchart:hover {\n",
              "    background-color: var(--hover-bg-color);\n",
              "    box-shadow: 0 1px 2px rgba(60, 64, 67, 0.3), 0 1px 3px 1px rgba(60, 64, 67, 0.15);\n",
              "    fill: var(--button-hover-fill-color);\n",
              "  }\n",
              "\n",
              "  .colab-df-quickchart-complete:disabled,\n",
              "  .colab-df-quickchart-complete:disabled:hover {\n",
              "    background-color: var(--disabled-bg-color);\n",
              "    fill: var(--disabled-fill-color);\n",
              "    box-shadow: none;\n",
              "  }\n",
              "\n",
              "  .colab-df-spinner {\n",
              "    border: 2px solid var(--fill-color);\n",
              "    border-color: transparent;\n",
              "    border-bottom-color: var(--fill-color);\n",
              "    animation:\n",
              "      spin 1s steps(1) infinite;\n",
              "  }\n",
              "\n",
              "  @keyframes spin {\n",
              "    0% {\n",
              "      border-color: transparent;\n",
              "      border-bottom-color: var(--fill-color);\n",
              "      border-left-color: var(--fill-color);\n",
              "    }\n",
              "    20% {\n",
              "      border-color: transparent;\n",
              "      border-left-color: var(--fill-color);\n",
              "      border-top-color: var(--fill-color);\n",
              "    }\n",
              "    30% {\n",
              "      border-color: transparent;\n",
              "      border-left-color: var(--fill-color);\n",
              "      border-top-color: var(--fill-color);\n",
              "      border-right-color: var(--fill-color);\n",
              "    }\n",
              "    40% {\n",
              "      border-color: transparent;\n",
              "      border-right-color: var(--fill-color);\n",
              "      border-top-color: var(--fill-color);\n",
              "    }\n",
              "    60% {\n",
              "      border-color: transparent;\n",
              "      border-right-color: var(--fill-color);\n",
              "    }\n",
              "    80% {\n",
              "      border-color: transparent;\n",
              "      border-right-color: var(--fill-color);\n",
              "      border-bottom-color: var(--fill-color);\n",
              "    }\n",
              "    90% {\n",
              "      border-color: transparent;\n",
              "      border-bottom-color: var(--fill-color);\n",
              "    }\n",
              "  }\n",
              "</style>\n",
              "\n",
              "  <script>\n",
              "    async function quickchart(key) {\n",
              "      const quickchartButtonEl =\n",
              "        document.querySelector('#' + key + ' button');\n",
              "      quickchartButtonEl.disabled = true;  // To prevent multiple clicks.\n",
              "      quickchartButtonEl.classList.add('colab-df-spinner');\n",
              "      try {\n",
              "        const charts = await google.colab.kernel.invokeFunction(\n",
              "            'suggestCharts', [key], {});\n",
              "      } catch (error) {\n",
              "        console.error('Error during call to suggestCharts:', error);\n",
              "      }\n",
              "      quickchartButtonEl.classList.remove('colab-df-spinner');\n",
              "      quickchartButtonEl.classList.add('colab-df-quickchart-complete');\n",
              "    }\n",
              "    (() => {\n",
              "      let quickchartButtonEl =\n",
              "        document.querySelector('#df-ab8d3e1e-4e47-4aca-9528-abf9f35d51cf button');\n",
              "      quickchartButtonEl.style.display =\n",
              "        google.colab.kernel.accessAllowed ? 'block' : 'none';\n",
              "    })();\n",
              "  </script>\n",
              "</div>\n",
              "    </div>\n",
              "  </div>\n"
            ],
            "application/vnd.google.colaboratory.intrinsic+json": {
              "type": "dataframe",
              "variable_name": "sentiment_df",
              "summary": "{\n  \"name\": \"sentiment_df\",\n  \"rows\": 6905,\n  \"fields\": [\n    {\n      \"column\": \"id\",\n      \"properties\": {\n        \"dtype\": \"string\",\n        \"num_unique_values\": 6905,\n        \"samples\": [\n          \"climatecrisis_63\",\n          \"klimawandel_7211473087185898758\",\n          \"savetheplanet_104\"\n        ],\n        \"semantic_type\": \"\",\n        \"description\": \"\"\n      }\n    },\n    {\n      \"column\": \"Text_Sentiment\",\n      \"properties\": {\n        \"dtype\": \"category\",\n        \"num_unique_values\": 3,\n        \"samples\": [\n          \"neutral\",\n          \"positive\",\n          \"negative\"\n        ],\n        \"semantic_type\": \"\",\n        \"description\": \"\"\n      }\n    },\n    {\n      \"column\": \"Visual_Sentiment\",\n      \"properties\": {\n        \"dtype\": \"category\",\n        \"num_unique_values\": 3,\n        \"samples\": [\n          \"neutral\",\n          \"negative\",\n          \"positive\"\n        ],\n        \"semantic_type\": \"\",\n        \"description\": \"\"\n      }\n    }\n  ]\n}"
            }
          },
          "metadata": {},
          "execution_count": 8
        }
      ]
    },
    {
      "cell_type": "code",
      "source": [
        "sentiment_df.to_csv(\"sentiment_analysis_df.csv\")"
      ],
      "metadata": {
        "id": "8Dia1SarQbZ-"
      },
      "execution_count": null,
      "outputs": []
    },
    {
      "cell_type": "markdown",
      "source": [
        "## Counts of equal values"
      ],
      "metadata": {
        "id": "CDALpd9z8OPw"
      }
    },
    {
      "cell_type": "code",
      "source": [
        "# Count occurrences of sentiments in Visual_Sentiment column\n",
        "visual_sentiment_counts = sentiment_df['Visual_Sentiment'].value_counts()\n",
        "\n",
        "# Count occurrences of sentiments in Text_Sentiment column\n",
        "text_sentiment_counts = sentiment_df['Text_Sentiment'].value_counts()\n",
        "\n",
        "# Output the counts\n",
        "print(\"Occurrences of sentiments in Visual_Sentiment:\")\n",
        "print(visual_sentiment_counts)\n",
        "print(\"\\nOccurrences of sentiments in Text_Sentiment:\")\n",
        "print(text_sentiment_counts)"
      ],
      "metadata": {
        "colab": {
          "base_uri": "https://localhost:8080/"
        },
        "id": "xnK-OZid3Yvn",
        "outputId": "8ce50902-0b1a-4a7e-eb68-fe2737f571d1"
      },
      "execution_count": null,
      "outputs": [
        {
          "output_type": "stream",
          "name": "stdout",
          "text": [
            "Occurrences of sentiments in Visual_Sentiment:\n",
            "neutral     3409\n",
            "negative    2515\n",
            "positive     973\n",
            "Name: Visual_Sentiment, dtype: int64\n",
            "\n",
            "Occurrences of sentiments in Text_Sentiment:\n",
            "neutral     3186\n",
            "positive    1978\n",
            "negative    1741\n",
            "Name: Text_Sentiment, dtype: int64\n"
          ]
        }
      ]
    },
    {
      "cell_type": "code",
      "source": [
        "import matplotlib.pyplot as plt\n",
        "\n",
        "\n",
        "# Show Textual Sentiments\n",
        "# Create a bar chart\n",
        "text_sentiment_counts.plot(kind='bar')\n",
        "\n",
        "# Adding labels and title\n",
        "plt.xlabel('Text Sentiment')\n",
        "plt.ylabel('Count')\n",
        "plt.title('Text Sentiment Counts')\n",
        "plt.xticks(rotation=360)\n",
        "\n",
        "# Save as jpg\n",
        "plt.savefig('text_sentiments_total.jpg')\n",
        "# Show the plot\n",
        "plt.show()\n",
        "\n",
        "\n",
        "# Show Visual Sentiments\n",
        "# Create a bar chart\n",
        "visual_sentiment_counts.plot(kind='bar')\n",
        "\n",
        "# Adding labels and title\n",
        "plt.xlabel('Visual Sentiment')\n",
        "plt.ylabel('Count')\n",
        "plt.title('Visual Sentiment Counts')\n",
        "plt.xticks(rotation=360)\n",
        "\n",
        "# Save as jpg\n",
        "plt.savefig('visual_sentiments_total.jpg')\n",
        "# Show the plot\n",
        "plt.show()"
      ],
      "metadata": {
        "colab": {
          "base_uri": "https://localhost:8080/",
          "height": 926
        },
        "id": "EE5R3rOqEHwv",
        "outputId": "ca82302b-a80c-42d9-f5c6-c030f26b799c"
      },
      "execution_count": null,
      "outputs": [
        {
          "output_type": "display_data",
          "data": {
            "text/plain": [
              "<Figure size 640x480 with 1 Axes>"
            ],
            "image/png": "[encoded data removed]"
          },
          "metadata": {}
        },
        {
          "output_type": "display_data",
          "data": {
            "text/plain": [
              "<Figure size 640x480 with 1 Axes>"
            ],
            "image/png": "[encoded data removed]"
          },
          "metadata": {}
        }
      ]
    },
    {
      "cell_type": "code",
      "source": [
        "# Show comparison of visual and textual sentiments\n",
        "import numpy as np\n",
        "\n",
        "# Define the positions for the bars\n",
        "bar_width = 0.25\n",
        "bar_positions_visual = np.arange(len(visual_sentiment_counts))\n",
        "bar_positions_text = bar_positions_visual + bar_width\n",
        "\n",
        "# Create a figure and axis object\n",
        "fig, ax = plt.subplots()\n",
        "\n",
        "# Plot visual sentiment counts\n",
        "ax.bar(bar_positions_visual, visual_sentiment_counts, width=bar_width, color='lightblue', label='Visual Sentiment')\n",
        "\n",
        "# Plot text sentiment counts\n",
        "ax.bar(bar_positions_text, text_sentiment_counts, width=bar_width, color='darkblue', label='Text Sentiment')\n",
        "\n",
        "# Set x-axis ticks and labels\n",
        "ax.set_xticks(bar_positions_visual + bar_width / 2)\n",
        "ax.set_xticklabels(visual_sentiment_counts)\n",
        "ax.set_xticklabels([\"neutral\", \"negative\", \"positive\"])\n",
        "\n",
        "# Add labels and title\n",
        "ax.set_xlabel('Sentiment')\n",
        "ax.set_ylabel('Counts')\n",
        "ax.set_title('Comparison of Visual and Text Sentiment Counts')\n",
        "ax.legend()\n",
        "\n",
        "\n",
        "plt.savefig('comparing_sentiments_total.jpg')\n",
        "# Show the plot\n",
        "plt.show()\n",
        "\n",
        "\n"
      ],
      "metadata": {
        "colab": {
          "base_uri": "https://localhost:8080/",
          "height": 472
        },
        "id": "cSfI0aFJFkbD",
        "outputId": "2a4f7258-25a2-4832-9405-88a623870c2d"
      },
      "execution_count": 23,
      "outputs": [
        {
          "output_type": "display_data",
          "data": {
            "text/plain": [
              "<Figure size 640x480 with 1 Axes>"
            ],
            "image/png": "[encoded data removed]"
          },
          "metadata": {}
        }
      ]
    },
    {
      "cell_type": "code",
      "source": [
        "# Check how often the sentiments are equal between text and visual content\n",
        "matched_sentiments_count = (sentiment_df['Text_Sentiment'] == sentiment_df['Visual_Sentiment'])\n",
        "\n",
        "# Calculate the percentage of matched sentiments\n",
        "percentage_matched_sentiments = matched_sentiments_count.sum() / len(sentiment_df) * 100\n",
        "\n",
        "print(f\"Percentage of posts with matching sentiments between text and visual content: {percentage_matched_sentiments:.2f}%\")\n"
      ],
      "metadata": {
        "colab": {
          "base_uri": "https://localhost:8080/"
        },
        "id": "YgcqNyEw2auo",
        "outputId": "0475bda0-3166-4cd6-9522-df3ef2aa7b34"
      },
      "execution_count": null,
      "outputs": [
        {
          "output_type": "stream",
          "name": "stdout",
          "text": [
            "Percentage of posts with matching sentiments between text and visual content: 53.54%\n"
          ]
        }
      ]
    },
    {
      "cell_type": "code",
      "source": [
        "# Count occurrences of same sentiments\n",
        "same_sentiments_count = {\n",
        "    'positive': ((sentiment_df['Text_Sentiment'] == 'positive') & (sentiment_df['Visual_Sentiment'] == 'positive')).sum(),\n",
        "    'neutral': ((sentiment_df['Text_Sentiment'] == 'neutral') & (sentiment_df['Visual_Sentiment'] == 'neutral')).sum(),\n",
        "    'negative': ((sentiment_df['Text_Sentiment'] == 'negative') & (sentiment_df['Visual_Sentiment'] == 'negative')).sum()\n",
        "}\n",
        "\n",
        "# Output the counts\n",
        "print(\"Number of rows with same sentiments:\")\n",
        "print(\"Positive:\", same_sentiments_count['positive'])\n",
        "print(\"Neutral:\", same_sentiments_count['neutral'])\n",
        "print(\"Negative:\", same_sentiments_count['negative'])\n"
      ],
      "metadata": {
        "colab": {
          "base_uri": "https://localhost:8080/"
        },
        "id": "evYGRmNV26aG",
        "outputId": "bc429415-8a58-4c01-abc5-c6af79faecfc"
      },
      "execution_count": null,
      "outputs": [
        {
          "output_type": "stream",
          "name": "stdout",
          "text": [
            "Number of rows with same sentiments:\n",
            "Positive: 679\n",
            "Neutral: 1916\n",
            "Negative: 1102\n"
          ]
        }
      ]
    },
    {
      "cell_type": "code",
      "source": [
        "# Calculate total number of rows\n",
        "total_rows = len(sentiment_df)\n",
        "\n",
        "# Count occurrences of same sentiments\n",
        "same_sentiments_count = {\n",
        "    'positive': ((sentiment_df['Text_Sentiment'] == 'positive') & (sentiment_df['Visual_Sentiment'] == 'positive')).sum(),\n",
        "    'neutral': ((sentiment_df['Text_Sentiment'] == 'neutral') & (sentiment_df['Visual_Sentiment'] == 'neutral')).sum(),\n",
        "    'negative': ((sentiment_df['Text_Sentiment'] == 'negative') & (sentiment_df['Visual_Sentiment'] == 'negative')).sum()\n",
        "}\n",
        "\n",
        "# Calculate percentages\n",
        "same_sentiments_percentage = {key: (value / total_rows * 100) for key, value in same_sentiments_count.items()}\n",
        "\n",
        "# Output the percentages\n",
        "print(\"Percentage of rows with same sentiments:\")\n",
        "print(\"Positive:\", same_sentiments_percentage['positive'], \"%\")\n",
        "print(\"Neutral:\", same_sentiments_percentage['neutral'], \"%\")\n",
        "print(\"Negative:\", same_sentiments_percentage['negative'], \"%\")\n"
      ],
      "metadata": {
        "colab": {
          "base_uri": "https://localhost:8080/"
        },
        "id": "KGon9z2pHgxw",
        "outputId": "dc55d0c7-332a-4570-92bd-af0071437991"
      },
      "execution_count": null,
      "outputs": [
        {
          "output_type": "stream",
          "name": "stdout",
          "text": [
            "Percentage of rows with same sentiments:\n",
            "Positive: 9.833454018826938 %\n",
            "Neutral: 27.74800868935554 %\n",
            "Negative: 15.959449674149168 %\n"
          ]
        }
      ]
    },
    {
      "cell_type": "markdown",
      "source": [
        "## Chi-Square Test of Independence"
      ],
      "metadata": {
        "id": "LJEns9GxH_ln"
      }
    },
    {
      "cell_type": "code",
      "source": [
        "from scipy.stats import chi2_contingency\n",
        "\n",
        "# Create a contingency table\n",
        "contingency_table = pd.crosstab(sentiment_df['Text_Sentiment'], sentiment_df['Visual_Sentiment'])\n",
        "\n",
        "# Perform chi-square test for independence\n",
        "chi2, p_value, _, _ = chi2_contingency(contingency_table)\n",
        "\n",
        "# Output the results\n",
        "print(\"Chi-square Statistic:\", chi2)\n",
        "print(\"P-value:\", p_value)\n",
        "\n",
        "# Check the significance level\n",
        "alpha = 0.05\n",
        "if p_value < alpha:\n",
        "    print(\"Reject the null hypothesis. There is a significant association between Text_Sentiment and Visual_Sentiment.\")\n",
        "else:\n",
        "    print(\"Fail to reject the null hypothesis. There is no significant association between Text_Sentiment and Visual_Sentiment.\")\n"
      ],
      "metadata": {
        "colab": {
          "base_uri": "https://localhost:8080/"
        },
        "id": "W1iKs8lPIHEs",
        "outputId": "cddf196c-38d3-4afa-ce84-064836a4f9a0"
      },
      "execution_count": null,
      "outputs": [
        {
          "output_type": "stream",
          "name": "stdout",
          "text": [
            "Chi-square Statistic: 1502.619434709618\n",
            "P-value: 0.0\n",
            "Reject the null hypothesis. There is a significant association between Text_Sentiment and Visual_Sentiment.\n"
          ]
        }
      ]
    },
    {
      "cell_type": "markdown",
      "source": [
        "###  Pearson's Chi-squared test in R"
      ],
      "metadata": {
        "id": "rTfcCzode3F7"
      }
    },
    {
      "cell_type": "markdown",
      "source": [
        "As the P-value is 0.0 in Python, the same analysis with conducted in R to get the specific value:\n",
        "\n",
        "\n",
        "\n",
        "\n",
        "```\n",
        "> sentiment_df <- read_csv(\"sentiment_analysis_df.csv\")\n",
        "> View(sentiment_df)\n",
        "> chi_sq_test <- chisq.test(sentiment_df$Text_Sentiment, sentiment_df$Visual_Sentiment)\n",
        "> print(chi_sq_test)\n",
        "```\n",
        "\n",
        "\n",
        "\n",
        "\n",
        "The output was:\n",
        "\n",
        "```\n",
        "        Pearson's Chi-squared test\n",
        "\n",
        "sentiment_df:  sentiment_df$Text_Sentiment and sentiment_df$Visual_Sentiment\n",
        "X-squared = 1502.6, df = 4, p-value < 2.2e-16\n",
        "```\n",
        "\n"
      ],
      "metadata": {
        "id": "3nFULnBEetv1"
      }
    },
    {
      "cell_type": "markdown",
      "source": [
        "The **X-squared = 1502.6**, which measures the discrepancy between the observed counts in the contigency table and the counts that would be expeted if the two variables were independent, inicates that there may be a siginficant association between the Visual and the Textual Sentiment.\n",
        "\n",
        "\n",
        "The **p-value < 2.2e-16** suggests stronge evidence against the null hypothesis. It indeicates that the observed association between 'Text_Sentiment' and 'Visual_Sentiment' is highly unlikly to have occureed by chance."
      ],
      "metadata": {
        "id": "7XL5Bctsfdeq"
      }
    },
    {
      "cell_type": "markdown",
      "source": [
        "**Hypothesis Conclusion**\n",
        "\n",
        "Based on the significance level, α = 0.05:\n",
        "\n",
        "```\n",
        "p-value < α\n",
        "```\n",
        "\n",
        "the null hypothesis is rejected.\n",
        "\n",
        "****\n",
        "**->There is a significant assiciation between the Textual Sentiment and the Visual Sentiment of and Instagram or TikTok Post. They are assciated with each other.**"
      ],
      "metadata": {
        "id": "tN7vuewbgm-i"
      }
    }
  ]
}