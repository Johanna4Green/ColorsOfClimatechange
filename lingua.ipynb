{
  "cells": [
    {
      "cell_type": "markdown",
      "source": [
        "# Language detection with lingua.py"
      ],
      "metadata": {
        "id": "Y0IveozikjBN"
      }
    },
    {
      "cell_type": "code",
      "execution_count": null,
      "metadata": {
        "colab": {
          "base_uri": "https://localhost:8080/"
        },
        "id": "AcAqKqniDB2B",
        "outputId": "501cf5dc-09c1-429f-d1bd-3b9cc4297113"
      },
      "outputs": [
        {
          "output_type": "stream",
          "name": "stdout",
          "text": [
            "Python 3.10.12\n"
          ]
        }
      ],
      "source": [
        "!python --version"
      ]
    },
    {
      "cell_type": "code",
      "execution_count": null,
      "metadata": {
        "colab": {
          "base_uri": "https://localhost:8080/"
        },
        "id": "i4WQdJTWDB2F",
        "outputId": "a19fe951-4658-4610-8d04-f08d51f50178"
      },
      "outputs": [
        {
          "output_type": "stream",
          "name": "stdout",
          "text": [
            "Collecting lingua-language-detector\n",
            "  Downloading lingua_language_detector-2.0.2-cp310-cp310-manylinux_2_17_x86_64.manylinux2014_x86_64.whl (74.7 MB)\n",
            "\u001b[2K     \u001b[90m━━━━━━━━━━━━━━━━━━━━━━━━━━━━━━━━━━━━━━━━\u001b[0m \u001b[32m74.7/74.7 MB\u001b[0m \u001b[31m10.2 MB/s\u001b[0m eta \u001b[36m0:00:00\u001b[0m\n",
            "\u001b[?25hInstalling collected packages: lingua-language-detector\n",
            "Successfully installed lingua-language-detector-2.0.2\n"
          ]
        }
      ],
      "source": [
        "pip install lingua-language-detector"
      ]
    },
    {
      "cell_type": "code",
      "execution_count": null,
      "metadata": {
        "id": "xGBnk1ADDB2F",
        "colab": {
          "base_uri": "https://localhost:8080/"
        },
        "outputId": "b2be0591-79ec-431a-bfaa-bb63ea5507f9"
      },
      "outputs": [
        {
          "output_type": "stream",
          "name": "stdout",
          "text": [
            "Requirement already satisfied: pandas in /usr/local/lib/python3.10/dist-packages (1.5.3)\n",
            "Requirement already satisfied: python-dateutil>=2.8.1 in /usr/local/lib/python3.10/dist-packages (from pandas) (2.8.2)\n",
            "Requirement already satisfied: pytz>=2020.1 in /usr/local/lib/python3.10/dist-packages (from pandas) (2023.4)\n",
            "Requirement already satisfied: numpy>=1.21.0 in /usr/local/lib/python3.10/dist-packages (from pandas) (1.25.2)\n",
            "Requirement already satisfied: six>=1.5 in /usr/local/lib/python3.10/dist-packages (from python-dateutil>=2.8.1->pandas) (1.16.0)\n"
          ]
        }
      ],
      "source": [
        "pip install pandas"
      ]
    },
    {
      "cell_type": "code",
      "execution_count": null,
      "metadata": {
        "id": "mBkIwN5zDB2F"
      },
      "outputs": [],
      "source": [
        "import pandas as pd"
      ]
    },
    {
      "cell_type": "code",
      "execution_count": null,
      "metadata": {
        "id": "DDRB6aHbDB2G"
      },
      "outputs": [],
      "source": [
        "from lingua import Language, LanguageDetectorBuilder\n",
        "\n",
        "# Include only languages that are not yet extinct.\n",
        "detector = LanguageDetectorBuilder.from_all_spoken_languages().build()"
      ]
    },
    {
      "cell_type": "code",
      "source": [
        "from google.colab import drive\n",
        "drive.mount('/content/drive')"
      ],
      "metadata": {
        "colab": {
          "base_uri": "https://localhost:8080/"
        },
        "id": "p6MLB_9XDOwh",
        "outputId": "64534a48-5f4f-4f64-82ce-4bf7b3b6b8a8"
      },
      "execution_count": null,
      "outputs": [
        {
          "output_type": "stream",
          "name": "stdout",
          "text": [
            "Mounted at /content/drive\n"
          ]
        }
      ]
    },
    {
      "cell_type": "code",
      "execution_count": null,
      "metadata": {
        "id": "M2_XQkfsDB2G"
      },
      "outputs": [],
      "source": [
        "# Replace with your actual CSV file path\n",
        "csv_file_path = '/content/drive/MyDrive/Klimawandel Projekt/Daten/Updated_Insta_Daten/CLIMATECHANGE_CTDaten/climatechange.csv'\n",
        "\n",
        "# Read CSV file into a DataFrame\n",
        "df = pd.read_csv(csv_file_path, sep= ';')\n",
        "\n",
        "# Create a new column for language\n",
        "df['language'] = ''\n",
        "df['Description'] = df['Description'].astype(str)"
      ]
    },
    {
      "cell_type": "code",
      "execution_count": null,
      "metadata": {
        "id": "ciKOaKVtDB2H"
      },
      "outputs": [],
      "source": [
        "df.head()"
      ]
    },
    {
      "cell_type": "code",
      "execution_count": null,
      "metadata": {
        "id": "YYD91OPpDB2H"
      },
      "outputs": [],
      "source": [
        "# Iterate through rows and detect language\n",
        "for index, row in df.iterrows():\n",
        "    text = row['Description']  # Replace 'Description' with the actual column name containing the text\n",
        "\n",
        "    # Get the detected language and add it to the 'language' column\n",
        "    detected_language = detector.detect_language_of(text)\n",
        "    df.at[index, 'language'] = detected_language"
      ]
    },
    {
      "cell_type": "code",
      "source": [
        "df.head()"
      ],
      "metadata": {
        "id": "xF5mRhgMKkB4"
      },
      "execution_count": null,
      "outputs": []
    },
    {
      "cell_type": "code",
      "source": [
        "df['language'] = df['language'].astype(str)\n",
        "en_de_df = df[df['language'].isin(['Language.ENGLISH', 'Language.GERMAN'])]"
      ],
      "metadata": {
        "id": "qTyflW-sIpEq"
      },
      "execution_count": null,
      "outputs": []
    },
    {
      "cell_type": "code",
      "source": [
        "len(df)"
      ],
      "metadata": {
        "colab": {
          "base_uri": "https://localhost:8080/"
        },
        "id": "WbxYoI2CICwT",
        "outputId": "e48d9117-082d-45ab-91d7-09b6740f4fcd"
      },
      "execution_count": null,
      "outputs": [
        {
          "output_type": "execute_result",
          "data": {
            "text/plain": [
              "694"
            ]
          },
          "metadata": {},
          "execution_count": 52
        }
      ]
    },
    {
      "cell_type": "code",
      "source": [
        "len(en_de_df)"
      ],
      "metadata": {
        "colab": {
          "base_uri": "https://localhost:8080/"
        },
        "id": "81jnGkktIIRX",
        "outputId": "29606ca3-18bb-4132-d303-89422b953ba8"
      },
      "execution_count": null,
      "outputs": [
        {
          "output_type": "execute_result",
          "data": {
            "text/plain": [
              "554"
            ]
          },
          "metadata": {},
          "execution_count": 53
        }
      ]
    },
    {
      "cell_type": "code",
      "source": [
        "en_de_df.head()"
      ],
      "metadata": {
        "id": "Lgo55n1LKrSf"
      },
      "execution_count": null,
      "outputs": []
    },
    {
      "cell_type": "code",
      "source": [
        "# Save the updated DataFrame back to CSV\n",
        "en_de_df.to_csv('/content/drive/MyDrive/Klimawandel Projekt/Daten/INSTA_DATA_COMPLETE/climatechange.csv', index=False)"
      ],
      "metadata": {
        "id": "qh5FoDtoIi8N"
      },
      "execution_count": null,
      "outputs": []
    }
  ],
  "metadata": {
    "kernelspec": {
      "display_name": ".venv",
      "language": "python",
      "name": "python3"
    },
    "language_info": {
      "codemirror_mode": {
        "name": "ipython",
        "version": 3
      },
      "file_extension": ".py",
      "mimetype": "text/x-python",
      "name": "python",
      "nbconvert_exporter": "python",
      "pygments_lexer": "ipython3",
      "version": "3.12.1"
    },
    "colab": {
      "provenance": []
    }
  },
  "nbformat": 4,
  "nbformat_minor": 0
}